{
 "cells": [
  {
   "cell_type": "code",
   "execution_count": 1,
   "metadata": {},
   "outputs": [
    {
     "name": "stdout",
     "output_type": "stream",
     "text": [
      "Collecting git+https://github.com/Evan-Kim2028/subgraph-query-portal.git\n",
      "  Cloning https://github.com/Evan-Kim2028/subgraph-query-portal.git to /tmp/pip-req-build-6h3sasia\n",
      "  Running command git clone --filter=blob:none --quiet https://github.com/Evan-Kim2028/subgraph-query-portal.git /tmp/pip-req-build-6h3sasia\n",
      "  Resolved https://github.com/Evan-Kim2028/subgraph-query-portal.git to commit 2705650be81311b71ea6c34ae04875cfcd8fecc2\n",
      "  Installing build dependencies ... \u001b[?25ldone\n",
      "\u001b[?25h  Getting requirements to build wheel ... \u001b[?25ldone\n",
      "\u001b[?25h  Installing backend dependencies ... \u001b[?25ldone\n",
      "\u001b[?25h  Preparing metadata (pyproject.toml) ... \u001b[?25ldone\n",
      "\u001b[?25hCollecting subgrounds==1.4.0 (from queryportal==0.0.post1.dev121+g2705650)\n",
      "  Using cached subgrounds-1.4.0-py3-none-any.whl (66 kB)\n",
      "Collecting polars (from queryportal==0.0.post1.dev121+g2705650)\n",
      "  Downloading polars-0.17.5-cp37-abi3-manylinux_2_17_x86_64.manylinux2014_x86_64.whl (17.5 MB)\n",
      "\u001b[2K     \u001b[90m━━━━━━━━━━━━━━━━━━━━━━━━━━━━━━━━━━━━━━━\u001b[0m \u001b[32m17.5/17.5 MB\u001b[0m \u001b[31m696.4 kB/s\u001b[0m eta \u001b[36m0:00:00\u001b[0m00:01\u001b[0m00:01\u001b[0m\n",
      "\u001b[?25hCollecting pyarrow (from queryportal==0.0.post1.dev121+g2705650)\n",
      "  Using cached pyarrow-11.0.0-cp310-cp310-manylinux_2_17_x86_64.manylinux2014_x86_64.whl (34.9 MB)\n",
      "Collecting pandas<2.0.0,>=1.4.2 (from subgrounds==1.4.0->queryportal==0.0.post1.dev121+g2705650)\n",
      "  Using cached pandas-1.5.3-cp310-cp310-manylinux_2_17_x86_64.manylinux2014_x86_64.whl (12.1 MB)\n",
      "Collecting pathlib<2.0.0,>=1.0.1 (from subgrounds==1.4.0->queryportal==0.0.post1.dev121+g2705650)\n",
      "  Using cached pathlib-1.0.1-py3-none-any.whl (14 kB)\n",
      "Collecting pipe<3.0,>=2.0 (from subgrounds==1.4.0->queryportal==0.0.post1.dev121+g2705650)\n",
      "  Using cached pipe-2.0-py3-none-any.whl (8.8 kB)\n",
      "Collecting pydantic<2.0.0,>=1.10.2 (from subgrounds==1.4.0->queryportal==0.0.post1.dev121+g2705650)\n",
      "  Using cached pydantic-1.10.7-cp310-cp310-manylinux_2_17_x86_64.manylinux2014_x86_64.whl (3.1 MB)\n",
      "Collecting requests<3.0.0,>=2.27.1 (from subgrounds==1.4.0->queryportal==0.0.post1.dev121+g2705650)\n",
      "  Using cached requests-2.28.2-py3-none-any.whl (62 kB)\n",
      "Collecting typing_extensions>=4.0.1 (from polars->queryportal==0.0.post1.dev121+g2705650)\n",
      "  Using cached typing_extensions-4.5.0-py3-none-any.whl (27 kB)\n",
      "Collecting numpy>=1.16.6 (from pyarrow->queryportal==0.0.post1.dev121+g2705650)\n",
      "  Using cached numpy-1.24.2-cp310-cp310-manylinux_2_17_x86_64.manylinux2014_x86_64.whl (17.3 MB)\n",
      "Requirement already satisfied: python-dateutil>=2.8.1 in ./.venv/lib/python3.10/site-packages (from pandas<2.0.0,>=1.4.2->subgrounds==1.4.0->queryportal==0.0.post1.dev121+g2705650) (2.8.2)\n",
      "Collecting pytz>=2020.1 (from pandas<2.0.0,>=1.4.2->subgrounds==1.4.0->queryportal==0.0.post1.dev121+g2705650)\n",
      "  Using cached pytz-2023.3-py2.py3-none-any.whl (502 kB)\n",
      "Collecting charset-normalizer<4,>=2 (from requests<3.0.0,>=2.27.1->subgrounds==1.4.0->queryportal==0.0.post1.dev121+g2705650)\n",
      "  Using cached charset_normalizer-3.1.0-cp310-cp310-manylinux_2_17_x86_64.manylinux2014_x86_64.whl (199 kB)\n",
      "Collecting idna<4,>=2.5 (from requests<3.0.0,>=2.27.1->subgrounds==1.4.0->queryportal==0.0.post1.dev121+g2705650)\n",
      "  Using cached idna-3.4-py3-none-any.whl (61 kB)\n",
      "Collecting urllib3<1.27,>=1.21.1 (from requests<3.0.0,>=2.27.1->subgrounds==1.4.0->queryportal==0.0.post1.dev121+g2705650)\n",
      "  Using cached urllib3-1.26.15-py2.py3-none-any.whl (140 kB)\n",
      "Collecting certifi>=2017.4.17 (from requests<3.0.0,>=2.27.1->subgrounds==1.4.0->queryportal==0.0.post1.dev121+g2705650)\n",
      "  Using cached certifi-2022.12.7-py3-none-any.whl (155 kB)\n",
      "Requirement already satisfied: six>=1.5 in ./.venv/lib/python3.10/site-packages (from python-dateutil>=2.8.1->pandas<2.0.0,>=1.4.2->subgrounds==1.4.0->queryportal==0.0.post1.dev121+g2705650) (1.16.0)\n",
      "Building wheels for collected packages: queryportal\n",
      "  Building wheel for queryportal (pyproject.toml) ... \u001b[?25ldone\n",
      "\u001b[?25h  Created wheel for queryportal: filename=queryportal-0.0.post1.dev121+g2705650-py3-none-any.whl size=13757 sha256=329a3081df93aaf8f324ca61308af4a667c38d6582bc302c9949d82e82f7dd0e\n",
      "  Stored in directory: /tmp/pip-ephem-wheel-cache-6feo86cy/wheels/68/ed/37/5eb5a8cac3e8bd8308342b19c5d94d74d42b0e161e7158c447\n",
      "Successfully built queryportal\n",
      "Installing collected packages: pytz, pathlib, urllib3, typing_extensions, pipe, numpy, idna, charset-normalizer, certifi, requests, pydantic, pyarrow, polars, pandas, subgrounds, queryportal\n",
      "Successfully installed certifi-2022.12.7 charset-normalizer-3.1.0 idna-3.4 numpy-1.24.2 pandas-1.5.3 pathlib-1.0.1 pipe-2.0 polars-0.17.5 pyarrow-11.0.0 pydantic-1.10.7 pytz-2023.3 queryportal-0.0.post1.dev121+g2705650 requests-2.28.2 subgrounds-1.4.0 typing_extensions-4.5.0 urllib3-1.26.15\n"
     ]
    }
   ],
   "source": [
    "!pip install git+https://github.com/Evan-Kim2028/subgraph-query-portal.git"
   ]
  },
  {
   "cell_type": "code",
   "execution_count": 14,
   "metadata": {},
   "outputs": [
    {
     "data": {
      "text/plain": [
       "polars.config.Config"
      ]
     },
     "execution_count": 14,
     "metadata": {},
     "output_type": "execute_result"
    }
   ],
   "source": [
    "import polars as pl\n",
    "from queryportal.dex import Dex\n",
    "\n",
    "from datetime import datetime, timedelta\n",
    "\n",
    "\n",
    "import pandas as pd\n",
    "# These commands enlarge the column size of the dataframe so things like 0x... are not truncated\n",
    "pd.set_option('display.max_columns', None)\n",
    "pd.set_option('display.expand_frame_repr', False)\n",
    "pd.set_option('max_colwidth', None)"
   ]
  },
  {
   "cell_type": "code",
   "execution_count": 15,
   "metadata": {},
   "outputs": [],
   "source": [
    "# define subgraph endpoint. This one is the Univ3 Ethereum endpoint maintained by Messari\n",
    "endpoint = 'https://api.thegraph.com/subgraphs/name/messari/uniswap-v3-ethereum'\n",
    "\n",
    "# instantiate dex class. Dex stores dex-related query functions\n",
    "my_dex = Dex(endpoint)"
   ]
  },
  {
   "attachments": {},
   "cell_type": "markdown",
   "metadata": {},
   "source": [
    "First query is to get PEPE pools on Univ3"
   ]
  },
  {
   "cell_type": "code",
   "execution_count": 24,
   "metadata": {},
   "outputs": [],
   "source": [
    "pool_filter = {\n",
    "    'pool_name_contains': 'Pepe'\n",
    "}"
   ]
  },
  {
   "cell_type": "code",
   "execution_count": 34,
   "metadata": {},
   "outputs": [
    {
     "name": "stdout",
     "output_type": "stream",
     "text": [
      "{'pool_': {'name_contains': 'Pepe'}}\n",
      "tokenIn\n",
      "tokenOut\n",
      "pool\n",
      "Shape: (10000, 9)\n",
      "Column Names: ['id', 'timestamp', 'tokenIn_symbol', 'tokenIn_id', 'tokenOut_symbol', 'tokenOut_id', 'pool_name', 'pool_id', 'pool_totalValueLockedUSD']\n",
      "Data Types: [Utf8, Utf8, Utf8, Utf8, Utf8, Utf8, Utf8, Utf8, Float64]\n",
      "Data: \n",
      "shape: (5, 9)\n",
      "┌───────────────────────────────────┬────────────┬────────────────┬───────────────────────────────────┬───┬───────────────────────────────────┬──────────────────────────────────┬───────────────────────────────────┬──────────────────────────┐\n",
      "│ id                                ┆ timestamp  ┆ tokenIn_symbol ┆ tokenIn_id                        ┆ … ┆ tokenOut_id                       ┆ pool_name                        ┆ pool_id                           ┆ pool_totalValueLockedUSD │\n",
      "│ ---                               ┆ ---        ┆ ---            ┆ ---                               ┆   ┆ ---                               ┆ ---                              ┆ ---                               ┆ ---                      │\n",
      "│ str                               ┆ str        ┆ str            ┆ str                               ┆   ┆ str                               ┆ str                              ┆ str                               ┆ f64                      │\n",
      "╞═══════════════════════════════════╪════════════╪════════════════╪═══════════════════════════════════╪═══╪═══════════════════════════════════╪══════════════════════════════════╪═══════════════════════════════════╪══════════════════════════╡\n",
      "│ 0xf3eb8cbf94d27926ce681f0ae9fd5a… ┆ 1681918187 ┆ WETH           ┆ 0xc02aaa39b223fe8d0a0e5c4f27ead9… ┆ … ┆ 0x6982508145454ce325ddbe47a25d4e… ┆ Uniswap V3 Pepe/Wrapped Ether 1% ┆ 0xf239009a101b6b930a527deaab6961… ┆ 1.8316e6                 │\n",
      "│ 0xacbb158061c415ab7024726d5bf833… ┆ 1681918187 ┆ WETH           ┆ 0xc02aaa39b223fe8d0a0e5c4f27ead9… ┆ … ┆ 0x6982508145454ce325ddbe47a25d4e… ┆ Uniswap V3 Pepe/Wrapped Ether 1% ┆ 0xf239009a101b6b930a527deaab6961… ┆ 1.8316e6                 │\n",
      "│ 0x8162b69edf3fa6696824be25e48d38… ┆ 1681918187 ┆ WETH           ┆ 0xc02aaa39b223fe8d0a0e5c4f27ead9… ┆ … ┆ 0x6982508145454ce325ddbe47a25d4e… ┆ Uniswap V3 Pepe/Wrapped Ether 1% ┆ 0xf239009a101b6b930a527deaab6961… ┆ 1.8316e6                 │\n",
      "│ 0xe8810891a1049782b8fb10b65c6cf6… ┆ 1681918175 ┆ PEPE           ┆ 0x6982508145454ce325ddbe47a25d4e… ┆ … ┆ 0xc02aaa39b223fe8d0a0e5c4f27ead9… ┆ Uniswap V3 Pepe/Wrapped Ether 1% ┆ 0xf239009a101b6b930a527deaab6961… ┆ 1.8316e6                 │\n",
      "│ 0xd536b570c316426f406478f67c9df4… ┆ 1681918175 ┆ WETH           ┆ 0xc02aaa39b223fe8d0a0e5c4f27ead9… ┆ … ┆ 0x6982508145454ce325ddbe47a25d4e… ┆ Uniswap V3 Pepe/Wrapped Ether 1% ┆ 0xf239009a101b6b930a527deaab6961… ┆ 1.8316e6                 │\n",
      "└───────────────────────────────────┴────────────┴────────────────┴───────────────────────────────────┴───┴───────────────────────────────────┴──────────────────────────────────┴───────────────────────────────────┴──────────────────────────┘\n",
      "Function 'query_swaps' executed in 20.1624s\n"
     ]
    }
   ],
   "source": [
    "pool_cols = [\n",
    "    'pool_name', \n",
    "    'pool_id',\n",
    "    'tokenIn_symbol', \n",
    "    'tokenOut_symbol', \n",
    "    'tokenIn_id',\n",
    "    'tokenOut_id',\n",
    "    'pool_totalValueLockedUSD'\n",
    "    ]\n",
    "\n",
    "# NOTE - Currently there's a bug where phantom columns \"id\" and \"timestamp\" appear even though the columns aren't selected. They refer to the swap hash ids and the timestamp that the swap occured. They can be ignored.\n",
    "pool_df = my_dex.query_swaps(query_paths=pool_cols, filter_dict=pool_filter, query_size=10000, add_endpoint_col=False)"
   ]
  },
  {
   "cell_type": "code",
   "execution_count": 35,
   "metadata": {},
   "outputs": [],
   "source": [
    "unique_pool_df = pool_df[['pool_name', 'pool_id', 'pool_totalValueLockedUSD']].unique().sort(by='pool_totalValueLockedUSD', descending=True)"
   ]
  },
  {
   "cell_type": "code",
   "execution_count": 36,
   "metadata": {},
   "outputs": [],
   "source": [
    "unique_pool_df = unique_pool_df.to_pandas()"
   ]
  },
  {
   "cell_type": "code",
   "execution_count": 37,
   "metadata": {},
   "outputs": [
    {
     "data": {
      "text/html": [
       "<div>\n",
       "<style scoped>\n",
       "    .dataframe tbody tr th:only-of-type {\n",
       "        vertical-align: middle;\n",
       "    }\n",
       "\n",
       "    .dataframe tbody tr th {\n",
       "        vertical-align: top;\n",
       "    }\n",
       "\n",
       "    .dataframe thead th {\n",
       "        text-align: right;\n",
       "    }\n",
       "</style>\n",
       "<table border=\"1\" class=\"dataframe\">\n",
       "  <thead>\n",
       "    <tr style=\"text-align: right;\">\n",
       "      <th></th>\n",
       "      <th>pool_name</th>\n",
       "      <th>pool_id</th>\n",
       "      <th>pool_totalValueLockedUSD</th>\n",
       "    </tr>\n",
       "  </thead>\n",
       "  <tbody>\n",
       "    <tr>\n",
       "      <th>0</th>\n",
       "      <td>Uniswap V3 Pepe/Wrapped Ether 1%</td>\n",
       "      <td>0xf239009a101b6b930a527deaab6961b6e7dec8a6</td>\n",
       "      <td>1.831697e+06</td>\n",
       "    </tr>\n",
       "    <tr>\n",
       "      <th>1</th>\n",
       "      <td>Uniswap V3 Pepe/Wrapped Ether 1%</td>\n",
       "      <td>0xf239009a101b6b930a527deaab6961b6e7dec8a6</td>\n",
       "      <td>1.831631e+06</td>\n",
       "    </tr>\n",
       "    <tr>\n",
       "      <th>2</th>\n",
       "      <td>Uniswap V3 McPepes/Wrapped Ether 1%</td>\n",
       "      <td>0xdf19389d0b2bee33230d73f07c8e0e2c4e78fb59</td>\n",
       "      <td>2.746683e+05</td>\n",
       "    </tr>\n",
       "    <tr>\n",
       "      <th>3</th>\n",
       "      <td>Uniswap V3 Pepe/USD Coin 1%</td>\n",
       "      <td>0xcee31c846cbf003f4ceb5bbd234cba03c6e940c7</td>\n",
       "      <td>2.658515e+04</td>\n",
       "    </tr>\n",
       "    <tr>\n",
       "      <th>4</th>\n",
       "      <td>Uniswap V3 Wojak Coin/Pepe 1%</td>\n",
       "      <td>0x0b4cb9d4fb1cee079392bc7cf6417a669f4c2dbd</td>\n",
       "      <td>1.173221e+04</td>\n",
       "    </tr>\n",
       "    <tr>\n",
       "      <th>5</th>\n",
       "      <td>Uniswap V3 Pepe/McPepes 1%</td>\n",
       "      <td>0x5e63add89fad07394c866b5ec650d062be15ef73</td>\n",
       "      <td>2.869249e+02</td>\n",
       "    </tr>\n",
       "    <tr>\n",
       "      <th>6</th>\n",
       "      <td>Uniswap V3 PepeAI/Wrapped Ether 1%</td>\n",
       "      <td>0xe210cbb670aacb2d255b97f023fa401fcc053fec</td>\n",
       "      <td>1.450494e-14</td>\n",
       "    </tr>\n",
       "  </tbody>\n",
       "</table>\n",
       "</div>"
      ],
      "text/plain": [
       "                             pool_name                                     pool_id  pool_totalValueLockedUSD\n",
       "0     Uniswap V3 Pepe/Wrapped Ether 1%  0xf239009a101b6b930a527deaab6961b6e7dec8a6              1.831697e+06\n",
       "1     Uniswap V3 Pepe/Wrapped Ether 1%  0xf239009a101b6b930a527deaab6961b6e7dec8a6              1.831631e+06\n",
       "2  Uniswap V3 McPepes/Wrapped Ether 1%  0xdf19389d0b2bee33230d73f07c8e0e2c4e78fb59              2.746683e+05\n",
       "3          Uniswap V3 Pepe/USD Coin 1%  0xcee31c846cbf003f4ceb5bbd234cba03c6e940c7              2.658515e+04\n",
       "4        Uniswap V3 Wojak Coin/Pepe 1%  0x0b4cb9d4fb1cee079392bc7cf6417a669f4c2dbd              1.173221e+04\n",
       "5           Uniswap V3 Pepe/McPepes 1%  0x5e63add89fad07394c866b5ec650d062be15ef73              2.869249e+02\n",
       "6   Uniswap V3 PepeAI/Wrapped Ether 1%  0xe210cbb670aacb2d255b97f023fa401fcc053fec              1.450494e-14"
      ]
     },
     "execution_count": 37,
     "metadata": {},
     "output_type": "execute_result"
    }
   ],
   "source": [
    "unique_pool_df"
   ]
  },
  {
   "cell_type": "code",
   "execution_count": null,
   "metadata": {},
   "outputs": [],
   "source": [
    "# it appears that the main pool liquidity for PEPE is this pool_id 0xf239009a101b6b930a527deaab6961b6e7dec8a6"
   ]
  },
  {
   "cell_type": "code",
   "execution_count": 44,
   "metadata": {},
   "outputs": [
    {
     "name": "stdout",
     "output_type": "stream",
     "text": [
      "{'pool_': {'id': '0xf239009a101b6b930a527deaab6961b6e7dec8a6'}}\n",
      "account\n",
      "tokenIn\n",
      "tokenOut\n",
      "Shape: (1000, 9)\n",
      "Column Names: ['amountOutUSD', 'amountInUSD', 'amountOut', 'amountIn', 'id', 'timestamp', 'account_id', 'tokenIn_symbol', 'tokenOut_symbol']\n",
      "Data Types: [Float64, Float64, Float64, Float64, Utf8, Utf8, Utf8, Utf8, Utf8]\n",
      "Data: \n",
      "shape: (5, 9)\n",
      "┌──────────────┬─────────────┬───────────┬───────────┬───┬────────────┬───────────────────────────────────┬────────────────┬─────────────────┐\n",
      "│ amountOutUSD ┆ amountInUSD ┆ amountOut ┆ amountIn  ┆ … ┆ timestamp  ┆ account_id                        ┆ tokenIn_symbol ┆ tokenOut_symbol │\n",
      "│ ---          ┆ ---         ┆ ---       ┆ ---       ┆   ┆ ---        ┆ ---                               ┆ ---            ┆ ---             │\n",
      "│ f64          ┆ f64         ┆ f64       ┆ f64       ┆   ┆ str        ┆ str                               ┆ str            ┆ str             │\n",
      "╞══════════════╪═════════════╪═══════════╪═══════════╪═══╪════════════╪═══════════════════════════════════╪════════════════╪═════════════════╡\n",
      "│ 151.395821   ┆ 151.724136  ┆ 4.3048e26 ┆ 7.6220e16 ┆ … ┆ 1681918619 ┆ 0x5039e0be707fbf25ffa545206bb23c… ┆ WETH           ┆ PEPE            │\n",
      "│ 99.335595    ┆ 99.531048   ┆ 2.8245e26 ┆ 5.0000e16 ┆ … ┆ 1681918619 ┆ 0x431675f96ce0803d959197c5549a4d… ┆ WETH           ┆ PEPE            │\n",
      "│ 639.928935   ┆ 651.571296  ┆ 3.2147e17 ┆ 1.8527e27 ┆ … ┆ 1681918619 ┆ 0x3559b592919d8e3284c48af1aaec05… ┆ PEPE           ┆ WETH            │\n",
      "│ 4976.552384  ┆ 5059.898823 ┆ 2.5000e18 ┆ 1.4387e28 ┆ … ┆ 1681918607 ┆ 0x4560a7d6422cbedb58af2a52ad275e… ┆ PEPE           ┆ WETH            │\n",
      "│ 70.710625    ┆ 71.051933   ┆ 2.0106e26 ┆ 3.5693e16 ┆ … ┆ 1681918607 ┆ 0x5ad9aa1c7b1cc032a216b43a9b64d1… ┆ WETH           ┆ PEPE            │\n",
      "└──────────────┴─────────────┴───────────┴───────────┴───┴────────────┴───────────────────────────────────┴────────────────┴─────────────────┘\n",
      "Function 'query_swaps' executed in 1.6520s\n"
     ]
    }
   ],
   "source": [
    "swap_filter = {\n",
    "    'timestamp_gte': int((datetime(2023, 4, 19) - timedelta(days=7)).timestamp()),\n",
    "    'timestamp_lte': int(datetime(2023, 4, 19).timestamp()),\n",
    "    'pool_id': '0xf239009a101b6b930a527deaab6961b6e7dec8a6'\n",
    "}\n",
    "\n",
    "swap_cols = [\n",
    "    'account_id',\n",
    "    'tokenIn_symbol', \n",
    "    'tokenOut_symbol', \n",
    "    'amountOutUSD', \n",
    "    'amountInUSD',\n",
    "    'amountOut',\n",
    "    'amountIn'\n",
    "    ]\n",
    "\n",
    "swap_df = my_dex.query_swaps(query_paths=swap_cols, filter_dict=swap_filter, query_size=100000, saved_file_name='pepe_swaps_4.12.23_to_4.19.23', add_endpoint_col=False)\n"
   ]
  },
  {
   "cell_type": "code",
   "execution_count": 45,
   "metadata": {},
   "outputs": [
    {
     "data": {
      "text/html": [
       "<div><style>\n",
       ".dataframe > thead > tr > th,\n",
       ".dataframe > tbody > tr > td {\n",
       "  text-align: right;\n",
       "}\n",
       "</style>\n",
       "<small>shape: (1000, 9)</small><table border=\"1\" class=\"dataframe\"><thead><tr><th>amountOutUSD</th><th>amountInUSD</th><th>amountOut</th><th>amountIn</th><th>id</th><th>timestamp</th><th>account_id</th><th>tokenIn_symbol</th><th>tokenOut_symbol</th></tr><tr><td>f64</td><td>f64</td><td>f64</td><td>f64</td><td>str</td><td>str</td><td>str</td><td>str</td><td>str</td></tr></thead><tbody><tr><td>151.395821</td><td>151.724136</td><td>4.3048e26</td><td>7.6220e16</td><td>&quot;0x6bc0439ba2b0…</td><td>&quot;1681918619&quot;</td><td>&quot;0x5039e0be707f…</td><td>&quot;WETH&quot;</td><td>&quot;PEPE&quot;</td></tr><tr><td>99.335595</td><td>99.531048</td><td>2.8245e26</td><td>5.0000e16</td><td>&quot;0x5e4407ccead5…</td><td>&quot;1681918619&quot;</td><td>&quot;0x431675f96ce0…</td><td>&quot;WETH&quot;</td><td>&quot;PEPE&quot;</td></tr><tr><td>639.928935</td><td>651.571296</td><td>3.2147e17</td><td>1.8527e27</td><td>&quot;0x0b19bfae3874…</td><td>&quot;1681918619&quot;</td><td>&quot;0x3559b592919d…</td><td>&quot;PEPE&quot;</td><td>&quot;WETH&quot;</td></tr><tr><td>4976.552384</td><td>5059.898823</td><td>2.5000e18</td><td>1.4387e28</td><td>&quot;0xf85c7467bf2d…</td><td>&quot;1681918607&quot;</td><td>&quot;0x4560a7d6422c…</td><td>&quot;PEPE&quot;</td><td>&quot;WETH&quot;</td></tr><tr><td>70.710625</td><td>71.051933</td><td>2.0106e26</td><td>3.5693e16</td><td>&quot;0xcfb20f9b9a41…</td><td>&quot;1681918607&quot;</td><td>&quot;0x5ad9aa1c7b1c…</td><td>&quot;WETH&quot;</td><td>&quot;PEPE&quot;</td></tr><tr><td>118.594222</td><td>119.437257</td><td>3.3721e26</td><td>6.0000e16</td><td>&quot;0xcd548e754647…</td><td>&quot;1681918607&quot;</td><td>&quot;0x452156c89a56…</td><td>&quot;WETH&quot;</td><td>&quot;PEPE&quot;</td></tr><tr><td>5935.854864</td><td>6020.424472</td><td>2.9819e18</td><td>1.7118e28</td><td>&quot;0xc91b7b5eca0e…</td><td>&quot;1681918607&quot;</td><td>&quot;0xdc089eb3bb39…</td><td>&quot;PEPE&quot;</td><td>&quot;WETH&quot;</td></tr><tr><td>1001.514054</td><td>1017.12423</td><td>5.0312e17</td><td>2.8921e27</td><td>&quot;0x72f4fbbfe323…</td><td>&quot;1681918607&quot;</td><td>&quot;0xa0e09f511d93…</td><td>&quot;PEPE&quot;</td><td>&quot;WETH&quot;</td></tr><tr><td>995.310477</td><td>1013.155291</td><td>5.0000e17</td><td>2.8808e27</td><td>&quot;0x72e3c9e10447…</td><td>&quot;1681918607&quot;</td><td>&quot;0x2e8f6f866259…</td><td>&quot;PEPE&quot;</td><td>&quot;WETH&quot;</td></tr><tr><td>2850.947423</td><td>2886.699873</td><td>1.4322e18</td><td>8.2080e27</td><td>&quot;0x70af6f6426af…</td><td>&quot;1681918607&quot;</td><td>&quot;0x5783d2650e06…</td><td>&quot;PEPE&quot;</td><td>&quot;WETH&quot;</td></tr><tr><td>49.544593</td><td>49.765524</td><td>1.4087e26</td><td>2.5000e16</td><td>&quot;0x4925de388a2b…</td><td>&quot;1681918607&quot;</td><td>&quot;0x4095bb4bb6c5…</td><td>&quot;WETH&quot;</td><td>&quot;PEPE&quot;</td></tr><tr><td>7388.934294</td><td>7458.144735</td><td>3.7119e18</td><td>2.1206e28</td><td>&quot;0x3338165a41bc…</td><td>&quot;1681918595&quot;</td><td>&quot;0x5c4a88006063…</td><td>&quot;PEPE&quot;</td><td>&quot;WETH&quot;</td></tr><tr><td>&hellip;</td><td>&hellip;</td><td>&hellip;</td><td>&hellip;</td><td>&hellip;</td><td>&hellip;</td><td>&hellip;</td><td>&hellip;</td><td>&hellip;</td></tr><tr><td>255.192431</td><td>258.480528</td><td>8.9258e26</td><td>1.3000e17</td><td>&quot;0x3a2461b06df3…</td><td>&quot;1681913339&quot;</td><td>&quot;0xf92dcc590f0f…</td><td>&quot;WETH&quot;</td><td>&quot;PEPE&quot;</td></tr><tr><td>49.070437</td><td>49.707794</td><td>1.7163e26</td><td>2.5000e16</td><td>&quot;0x098bb1afbf34…</td><td>&quot;1681913339&quot;</td><td>&quot;0x5962bcd03500…</td><td>&quot;WETH&quot;</td><td>&quot;PEPE&quot;</td></tr><tr><td>3919.765765</td><td>3964.693643</td><td>1.3710e28</td><td>1.9940e18</td><td>&quot;0x76ec0b62b489…</td><td>&quot;1681913315&quot;</td><td>&quot;0xf72f927ab2d7…</td><td>&quot;WETH&quot;</td><td>&quot;PEPE&quot;</td></tr><tr><td>39.368049</td><td>39.766235</td><td>1.3770e26</td><td>2.0000e16</td><td>&quot;0x74bffb66ec8f…</td><td>&quot;1681913303&quot;</td><td>&quot;0xa91efca26a26…</td><td>&quot;WETH&quot;</td><td>&quot;PEPE&quot;</td></tr><tr><td>19926.92949</td><td>20877.273446</td><td>7.2798e28</td><td>1.0500e19</td><td>&quot;0x6e9a56785d94…</td><td>&quot;1681913267&quot;</td><td>&quot;0xf68448fbf0a4…</td><td>&quot;WETH&quot;</td><td>&quot;PEPE&quot;</td></tr><tr><td>382.290086</td><td>397.662351</td><td>1.3966e27</td><td>2.0000e17</td><td>&quot;0xffbe99f5f4c4…</td><td>&quot;1681913255&quot;</td><td>&quot;0xaffa80a3c2a4…</td><td>&quot;WETH&quot;</td><td>&quot;PEPE&quot;</td></tr><tr><td>47.793433</td><td>49.707794</td><td>1.7460e26</td><td>2.5000e16</td><td>&quot;0xeba24a72444f…</td><td>&quot;1681913255&quot;</td><td>&quot;0x742d2d11c7fb…</td><td>&quot;WETH&quot;</td><td>&quot;PEPE&quot;</td></tr><tr><td>76.445778</td><td>79.53247</td><td>2.7928e26</td><td>4.0000e16</td><td>&quot;0x36e454726144…</td><td>&quot;1681913255&quot;</td><td>&quot;0x05f436724e0e…</td><td>&quot;WETH&quot;</td><td>&quot;PEPE&quot;</td></tr><tr><td>95.594854</td><td>99.415588</td><td>3.4923e26</td><td>5.0000e16</td><td>&quot;0x6f2674fed362…</td><td>&quot;1681913243&quot;</td><td>&quot;0x683e2f6e5b07…</td><td>&quot;WETH&quot;</td><td>&quot;PEPE&quot;</td></tr><tr><td>39.111559</td><td>38.368955</td><td>1.9671e16</td><td>1.4017e26</td><td>&quot;0x6e331f1aefae…</td><td>&quot;1681913243&quot;</td><td>&quot;0x278db415b3c9…</td><td>&quot;PEPE&quot;</td><td>&quot;WETH&quot;</td></tr><tr><td>86.029916</td><td>89.474029</td><td>3.1429e26</td><td>4.5000e16</td><td>&quot;0x661688d94aa7…</td><td>&quot;1681913243&quot;</td><td>&quot;0x29b208b1dc29…</td><td>&quot;WETH&quot;</td><td>&quot;PEPE&quot;</td></tr><tr><td>6615.528342</td><td>6860.633434</td><td>2.4168e28</td><td>3.4505e18</td><td>&quot;0x5e582dd639c2…</td><td>&quot;1681913231&quot;</td><td>&quot;0x831c5e992847…</td><td>&quot;WETH&quot;</td><td>&quot;PEPE&quot;</td></tr></tbody></table></div>"
      ],
      "text/plain": [
       "shape: (1_000, 9)\n",
       "┌──────────────┬─────────────┬───────────┬───────────┬───┬────────────┬───────────────────────────────────┬────────────────┬─────────────────┐\n",
       "│ amountOutUSD ┆ amountInUSD ┆ amountOut ┆ amountIn  ┆ … ┆ timestamp  ┆ account_id                        ┆ tokenIn_symbol ┆ tokenOut_symbol │\n",
       "│ ---          ┆ ---         ┆ ---       ┆ ---       ┆   ┆ ---        ┆ ---                               ┆ ---            ┆ ---             │\n",
       "│ f64          ┆ f64         ┆ f64       ┆ f64       ┆   ┆ str        ┆ str                               ┆ str            ┆ str             │\n",
       "╞══════════════╪═════════════╪═══════════╪═══════════╪═══╪════════════╪═══════════════════════════════════╪════════════════╪═════════════════╡\n",
       "│ 151.395821   ┆ 151.724136  ┆ 4.3048e26 ┆ 7.6220e16 ┆ … ┆ 1681918619 ┆ 0x5039e0be707fbf25ffa545206bb23c… ┆ WETH           ┆ PEPE            │\n",
       "│ 99.335595    ┆ 99.531048   ┆ 2.8245e26 ┆ 5.0000e16 ┆ … ┆ 1681918619 ┆ 0x431675f96ce0803d959197c5549a4d… ┆ WETH           ┆ PEPE            │\n",
       "│ 639.928935   ┆ 651.571296  ┆ 3.2147e17 ┆ 1.8527e27 ┆ … ┆ 1681918619 ┆ 0x3559b592919d8e3284c48af1aaec05… ┆ PEPE           ┆ WETH            │\n",
       "│ 4976.552384  ┆ 5059.898823 ┆ 2.5000e18 ┆ 1.4387e28 ┆ … ┆ 1681918607 ┆ 0x4560a7d6422cbedb58af2a52ad275e… ┆ PEPE           ┆ WETH            │\n",
       "│ …            ┆ …           ┆ …         ┆ …         ┆ … ┆ …          ┆ …                                 ┆ …              ┆ …               │\n",
       "│ 95.594854    ┆ 99.415588   ┆ 3.4923e26 ┆ 5.0000e16 ┆ … ┆ 1681913243 ┆ 0x683e2f6e5b079df29dc5e9c144e337… ┆ WETH           ┆ PEPE            │\n",
       "│ 39.111559    ┆ 38.368955   ┆ 1.9671e16 ┆ 1.4017e26 ┆ … ┆ 1681913243 ┆ 0x278db415b3c969e789e1ec9e80e1e0… ┆ PEPE           ┆ WETH            │\n",
       "│ 86.029916    ┆ 89.474029   ┆ 3.1429e26 ┆ 4.5000e16 ┆ … ┆ 1681913243 ┆ 0x29b208b1dc29a1fe7cda138fb074b0… ┆ WETH           ┆ PEPE            │\n",
       "│ 6615.528342  ┆ 6860.633434 ┆ 2.4168e28 ┆ 3.4505e18 ┆ … ┆ 1681913231 ┆ 0x831c5e9928471baba347ca0af14a7d… ┆ WETH           ┆ PEPE            │\n",
       "└──────────────┴─────────────┴───────────┴───────────┴───┴────────────┴───────────────────────────────────┴────────────────┴─────────────────┘"
      ]
     },
     "execution_count": 45,
     "metadata": {},
     "output_type": "execute_result"
    }
   ],
   "source": [
    "swap_df"
   ]
  },
  {
   "cell_type": "code",
   "execution_count": null,
   "metadata": {},
   "outputs": [],
   "source": []
  }
 ],
 "metadata": {
  "kernelspec": {
   "display_name": ".venv",
   "language": "python",
   "name": "python3"
  },
  "language_info": {
   "codemirror_mode": {
    "name": "ipython",
    "version": 3
   },
   "file_extension": ".py",
   "mimetype": "text/x-python",
   "name": "python",
   "nbconvert_exporter": "python",
   "pygments_lexer": "ipython3",
   "version": "3.10.6"
  },
  "orig_nbformat": 4
 },
 "nbformat": 4,
 "nbformat_minor": 2
}
