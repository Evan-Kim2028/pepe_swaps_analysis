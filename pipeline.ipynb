{
 "cells": [
  {
   "cell_type": "code",
   "execution_count": 1,
   "metadata": {},
   "outputs": [
    {
     "name": "stdout",
     "output_type": "stream",
     "text": [
      "Collecting git+https://github.com/Evan-Kim2028/subgraph-query-portal.git\n",
      "  Cloning https://github.com/Evan-Kim2028/subgraph-query-portal.git to /tmp/pip-req-build-loq2yljl\n",
      "  Running command git clone --filter=blob:none --quiet https://github.com/Evan-Kim2028/subgraph-query-portal.git /tmp/pip-req-build-loq2yljl\n",
      "  Resolved https://github.com/Evan-Kim2028/subgraph-query-portal.git to commit 7993c20c8a18d0a29a86ac23c7d0f6ff13fcec3f\n",
      "  Installing build dependencies ... \u001b[?25ldone\n",
      "\u001b[?25h  Getting requirements to build wheel ... \u001b[?25ldone\n",
      "\u001b[?25h  Installing backend dependencies ... \u001b[?25ldone\n",
      "\u001b[?25h  Preparing metadata (pyproject.toml) ... \u001b[?25ldone\n",
      "\u001b[?25hRequirement already satisfied: subgrounds==1.4.0 in ./.venv/lib/python3.10/site-packages (from queryportal==0.0.post1.dev185+g7993c20) (1.4.0)\n",
      "Requirement already satisfied: polars in ./.venv/lib/python3.10/site-packages (from queryportal==0.0.post1.dev185+g7993c20) (0.17.5)\n",
      "Requirement already satisfied: pyarrow in ./.venv/lib/python3.10/site-packages (from queryportal==0.0.post1.dev185+g7993c20) (11.0.0)\n",
      "Collecting python-dotenv (from queryportal==0.0.post1.dev185+g7993c20)\n",
      "  Using cached python_dotenv-1.0.0-py3-none-any.whl (19 kB)\n",
      "Requirement already satisfied: pandas<2.0.0,>=1.4.2 in ./.venv/lib/python3.10/site-packages (from subgrounds==1.4.0->queryportal==0.0.post1.dev185+g7993c20) (1.5.3)\n",
      "Requirement already satisfied: pathlib<2.0.0,>=1.0.1 in ./.venv/lib/python3.10/site-packages (from subgrounds==1.4.0->queryportal==0.0.post1.dev185+g7993c20) (1.0.1)\n",
      "Requirement already satisfied: pipe<3.0,>=2.0 in ./.venv/lib/python3.10/site-packages (from subgrounds==1.4.0->queryportal==0.0.post1.dev185+g7993c20) (2.0)\n",
      "Requirement already satisfied: pydantic<2.0.0,>=1.10.2 in ./.venv/lib/python3.10/site-packages (from subgrounds==1.4.0->queryportal==0.0.post1.dev185+g7993c20) (1.10.7)\n",
      "Requirement already satisfied: requests<3.0.0,>=2.27.1 in ./.venv/lib/python3.10/site-packages (from subgrounds==1.4.0->queryportal==0.0.post1.dev185+g7993c20) (2.28.2)\n",
      "Requirement already satisfied: typing_extensions>=4.0.1 in ./.venv/lib/python3.10/site-packages (from polars->queryportal==0.0.post1.dev185+g7993c20) (4.5.0)\n",
      "Requirement already satisfied: numpy>=1.16.6 in ./.venv/lib/python3.10/site-packages (from pyarrow->queryportal==0.0.post1.dev185+g7993c20) (1.24.2)\n",
      "Requirement already satisfied: python-dateutil>=2.8.1 in ./.venv/lib/python3.10/site-packages (from pandas<2.0.0,>=1.4.2->subgrounds==1.4.0->queryportal==0.0.post1.dev185+g7993c20) (2.8.2)\n",
      "Requirement already satisfied: pytz>=2020.1 in ./.venv/lib/python3.10/site-packages (from pandas<2.0.0,>=1.4.2->subgrounds==1.4.0->queryportal==0.0.post1.dev185+g7993c20) (2023.3)\n",
      "Requirement already satisfied: charset-normalizer<4,>=2 in ./.venv/lib/python3.10/site-packages (from requests<3.0.0,>=2.27.1->subgrounds==1.4.0->queryportal==0.0.post1.dev185+g7993c20) (3.1.0)\n",
      "Requirement already satisfied: idna<4,>=2.5 in ./.venv/lib/python3.10/site-packages (from requests<3.0.0,>=2.27.1->subgrounds==1.4.0->queryportal==0.0.post1.dev185+g7993c20) (3.4)\n",
      "Requirement already satisfied: urllib3<1.27,>=1.21.1 in ./.venv/lib/python3.10/site-packages (from requests<3.0.0,>=2.27.1->subgrounds==1.4.0->queryportal==0.0.post1.dev185+g7993c20) (1.26.15)\n",
      "Requirement already satisfied: certifi>=2017.4.17 in ./.venv/lib/python3.10/site-packages (from requests<3.0.0,>=2.27.1->subgrounds==1.4.0->queryportal==0.0.post1.dev185+g7993c20) (2022.12.7)\n",
      "Requirement already satisfied: six>=1.5 in ./.venv/lib/python3.10/site-packages (from python-dateutil>=2.8.1->pandas<2.0.0,>=1.4.2->subgrounds==1.4.0->queryportal==0.0.post1.dev185+g7993c20) (1.16.0)\n",
      "Building wheels for collected packages: queryportal\n",
      "  Building wheel for queryportal (pyproject.toml) ... \u001b[?25ldone\n",
      "\u001b[?25h  Created wheel for queryportal: filename=queryportal-0.0.post1.dev185+g7993c20-py3-none-any.whl size=15133 sha256=435873e4433f0345f95cc96e12c19172a72de381d000c8a647a385cbd361b8fd\n",
      "  Stored in directory: /tmp/pip-ephem-wheel-cache-i3joux3h/wheels/68/ed/37/5eb5a8cac3e8bd8308342b19c5d94d74d42b0e161e7158c447\n",
      "Successfully built queryportal\n",
      "Installing collected packages: python-dotenv, queryportal\n",
      "  Attempting uninstall: queryportal\n",
      "    Found existing installation: queryportal 0.0.post1.dev121+g2705650\n",
      "    Uninstalling queryportal-0.0.post1.dev121+g2705650:\n",
      "      Successfully uninstalled queryportal-0.0.post1.dev121+g2705650\n",
      "Successfully installed python-dotenv-1.0.0 queryportal-0.0.post1.dev185+g7993c20\n",
      "\n",
      "\u001b[1m[\u001b[0m\u001b[34;49mnotice\u001b[0m\u001b[1;39;49m]\u001b[0m\u001b[39;49m A new release of pip is available: \u001b[0m\u001b[31;49m23.1\u001b[0m\u001b[39;49m -> \u001b[0m\u001b[32;49m23.1.2\u001b[0m\n",
      "\u001b[1m[\u001b[0m\u001b[34;49mnotice\u001b[0m\u001b[1;39;49m]\u001b[0m\u001b[39;49m To update, run: \u001b[0m\u001b[32;49mpip install --upgrade pip\u001b[0m\n"
     ]
    }
   ],
   "source": [
    "!pip install git+https://github.com/Evan-Kim2028/subgraph-query-portal.git"
   ]
  },
  {
   "cell_type": "code",
   "execution_count": 2,
   "metadata": {},
   "outputs": [
    {
     "data": {
      "text/plain": [
       "polars.config.Config"
      ]
     },
     "execution_count": 2,
     "metadata": {},
     "output_type": "execute_result"
    }
   ],
   "source": [
    "from queryportal.subgraphinterface import SubgraphInterface\n",
    "\n",
    "from datetime import datetime, timedelta\n",
    "\n",
    "\n",
    "import polars as pl\n",
    "pl.Config.set_fmt_str_lengths(200)"
   ]
  },
  {
   "cell_type": "code",
   "execution_count": 5,
   "metadata": {},
   "outputs": [],
   "source": [
    "# define subgraph endpoint. This one is the Univ3 Ethereum endpoint maintained by Messari\n",
    "endpoint = 'https://api.thegraph.com/subgraphs/name/messari/uniswap-v3-ethereum'\n",
    "\n",
    "# instantiate dex class. Dex stores dex-related query functions\n",
    "my_dex = SubgraphInterface(endpoint)"
   ]
  },
  {
   "attachments": {},
   "cell_type": "markdown",
   "metadata": {},
   "source": [
    "First query is to get PEPE pools on Univ3\n",
    "\n",
    "Tips:\n",
    "- Find valid query entities and columns by inspecting the endpoint url...."
   ]
  },
  {
   "cell_type": "code",
   "execution_count": 6,
   "metadata": {},
   "outputs": [],
   "source": [
    "pool_filter = {\n",
    "    'pool_name_contains': 'Pepe',\n",
    "    'timestamp_gte': int((datetime(2023, 4, 12).timestamp())),\n",
    "    'timestamp_lte': int(datetime(2023, 4, 19).timestamp())\n",
    "}\n",
    "\n",
    "pool_cols = [\n",
    "    'timestamp',\n",
    "    'hash',\n",
    "    # comes from Pool entity\n",
    "    'pool_name', \n",
    "    'pool_id',\n",
    "    'pool_totalValueLockedUSD',\n",
    "    # comes from Token entity\n",
    "    'tokenIn_symbol', \n",
    "    'tokenOut_symbol', \n",
    "    'tokenIn_id',\n",
    "    'tokenOut_id',\n",
    "    ]"
   ]
  },
  {
   "cell_type": "code",
   "execution_count": 8,
   "metadata": {},
   "outputs": [
    {
     "name": "stdout",
     "output_type": "stream",
     "text": [
      "Querying subgraph endpoint: uniswap-v3-ethereum\n",
      "Shape: (1000, 9)\n",
      "Schema: {'timestamp': Int64, 'hash': Utf8, 'tokenIn_symbol': Utf8, 'tokenIn_id': Utf8, 'tokenOut_symbol': Utf8, 'tokenOut_id': Utf8, 'pool_name': Utf8, 'pool_id': Utf8, 'pool_totalValueLockedUSD': Float64}\n",
      "Function 'query_entity' executed in 7.1500s\n"
     ]
    }
   ],
   "source": [
    "df = my_dex.query_entity(\n",
    "    entity='swaps',\n",
    "    name='uniswap-v3-ethereum',\n",
    "    query_paths=pool_cols,\n",
    "    query_size=1000,\n",
    "    filter_dict=pool_filter\n",
    "    )"
   ]
  },
  {
   "cell_type": "code",
   "execution_count": 9,
   "metadata": {},
   "outputs": [],
   "source": [
    "unique_pool_df = df[['pool_name', 'pool_id', 'pool_totalValueLockedUSD']].unique().sort(by='pool_totalValueLockedUSD', descending=True)"
   ]
  },
  {
   "cell_type": "code",
   "execution_count": 10,
   "metadata": {},
   "outputs": [],
   "source": [
    "unique_pool_df = unique_pool_df.to_pandas()"
   ]
  },
  {
   "cell_type": "code",
   "execution_count": 11,
   "metadata": {},
   "outputs": [
    {
     "data": {
      "text/html": [
       "<div>\n",
       "<style scoped>\n",
       "    .dataframe tbody tr th:only-of-type {\n",
       "        vertical-align: middle;\n",
       "    }\n",
       "\n",
       "    .dataframe tbody tr th {\n",
       "        vertical-align: top;\n",
       "    }\n",
       "\n",
       "    .dataframe thead th {\n",
       "        text-align: right;\n",
       "    }\n",
       "</style>\n",
       "<table border=\"1\" class=\"dataframe\">\n",
       "  <thead>\n",
       "    <tr style=\"text-align: right;\">\n",
       "      <th></th>\n",
       "      <th>pool_name</th>\n",
       "      <th>pool_id</th>\n",
       "      <th>pool_totalValueLockedUSD</th>\n",
       "    </tr>\n",
       "  </thead>\n",
       "  <tbody>\n",
       "    <tr>\n",
       "      <th>0</th>\n",
       "      <td>Uniswap V3 McPepes/Wrapped Ether 1%</td>\n",
       "      <td>0xdf19389d0b2bee33230d73f07c8e0e2c4e78fb59</td>\n",
       "      <td>4.286022e+06</td>\n",
       "    </tr>\n",
       "    <tr>\n",
       "      <th>1</th>\n",
       "      <td>Uniswap V3 Pepe/Wrapped Ether 1%</td>\n",
       "      <td>0xf239009a101b6b930a527deaab6961b6e7dec8a6</td>\n",
       "      <td>2.686652e+06</td>\n",
       "    </tr>\n",
       "    <tr>\n",
       "      <th>2</th>\n",
       "      <td>Uniswap V3 Pepe/USD Coin 1%</td>\n",
       "      <td>0xcee31c846cbf003f4ceb5bbd234cba03c6e940c7</td>\n",
       "      <td>5.422068e+04</td>\n",
       "    </tr>\n",
       "    <tr>\n",
       "      <th>3</th>\n",
       "      <td>Uniswap V3 Pepe/McPepes 1%</td>\n",
       "      <td>0x5e63add89fad07394c866b5ec650d062be15ef73</td>\n",
       "      <td>5.250808e+04</td>\n",
       "    </tr>\n",
       "    <tr>\n",
       "      <th>4</th>\n",
       "      <td>Uniswap V3 Wojak Coin/Pepe 1%</td>\n",
       "      <td>0x0b4cb9d4fb1cee079392bc7cf6417a669f4c2dbd</td>\n",
       "      <td>3.448001e+02</td>\n",
       "    </tr>\n",
       "  </tbody>\n",
       "</table>\n",
       "</div>"
      ],
      "text/plain": [
       "                             pool_name  \\\n",
       "0  Uniswap V3 McPepes/Wrapped Ether 1%   \n",
       "1     Uniswap V3 Pepe/Wrapped Ether 1%   \n",
       "2          Uniswap V3 Pepe/USD Coin 1%   \n",
       "3           Uniswap V3 Pepe/McPepes 1%   \n",
       "4        Uniswap V3 Wojak Coin/Pepe 1%   \n",
       "\n",
       "                                      pool_id  pool_totalValueLockedUSD  \n",
       "0  0xdf19389d0b2bee33230d73f07c8e0e2c4e78fb59              4.286022e+06  \n",
       "1  0xf239009a101b6b930a527deaab6961b6e7dec8a6              2.686652e+06  \n",
       "2  0xcee31c846cbf003f4ceb5bbd234cba03c6e940c7              5.422068e+04  \n",
       "3  0x5e63add89fad07394c866b5ec650d062be15ef73              5.250808e+04  \n",
       "4  0x0b4cb9d4fb1cee079392bc7cf6417a669f4c2dbd              3.448001e+02  "
      ]
     },
     "execution_count": 11,
     "metadata": {},
     "output_type": "execute_result"
    }
   ],
   "source": [
    "unique_pool_df"
   ]
  },
  {
   "cell_type": "code",
   "execution_count": null,
   "metadata": {},
   "outputs": [],
   "source": [
    "# it appears that the main pool liquidity for PEPE is this pool_id 0xf239009a101b6b930a527deaab6961b6e7dec8a6"
   ]
  },
  {
   "cell_type": "code",
   "execution_count": 46,
   "metadata": {},
   "outputs": [
    {
     "name": "stdout",
     "output_type": "stream",
     "text": [
      "{'pool_': {'id': '0xf239009a101b6b930a527deaab6961b6e7dec8a6'}}\n",
      "account\n",
      "tokenIn\n",
      "tokenOut\n",
      "Shape: (28112, 9)\n",
      "Column Names: ['amountOutUSD', 'amountInUSD', 'amountOut', 'amountIn', 'id', 'timestamp', 'account_id', 'tokenIn_symbol', 'tokenOut_symbol']\n",
      "Data Types: [Float64, Float64, Float64, Float64, Utf8, Utf8, Utf8, Utf8, Utf8]\n",
      "Data: \n",
      "shape: (5, 9)\n",
      "┌──────────────┬─────────────┬───────────┬───────────┬───┬────────────┬───────────────────────────────────┬────────────────┬─────────────────┐\n",
      "│ amountOutUSD ┆ amountInUSD ┆ amountOut ┆ amountIn  ┆ … ┆ timestamp  ┆ account_id                        ┆ tokenIn_symbol ┆ tokenOut_symbol │\n",
      "│ ---          ┆ ---         ┆ ---       ┆ ---       ┆   ┆ ---        ┆ ---                               ┆ ---            ┆ ---             │\n",
      "│ f64          ┆ f64         ┆ f64       ┆ f64       ┆   ┆ str        ┆ str                               ┆ str            ┆ str             │\n",
      "╞══════════════╪═════════════╪═══════════╪═══════════╪═══╪════════════╪═══════════════════════════════════╪════════════════╪═════════════════╡\n",
      "│ 1289.148284  ┆ 1297.057447 ┆ 6.4761e17 ┆ 3.7633e27 ┆ … ┆ 1681918703 ┆ 0x41258d0119e4d1976009da157a7b05… ┆ PEPE           ┆ WETH            │\n",
      "│ 3162.241888  ┆ 3184.043386 ┆ 1.5886e18 ┆ 9.2382e27 ┆ … ┆ 1681918703 ┆ 0xcbcc2b2ecd195ebef03fcb7c7564e4… ┆ PEPE           ┆ WETH            │\n",
      "│ 215.972745   ┆ 218.968305  ┆ 6.2662e26 ┆ 1.1000e17 ┆ … ┆ 1681918703 ┆ 0x59abf65b6252db1e36108b05fb5ba7… ┆ WETH           ┆ PEPE            │\n",
      "│ 491.370852   ┆ 497.655238  ┆ 1.4257e27 ┆ 2.5000e17 ┆ … ┆ 1681918703 ┆ 0x1aa2a7d52c6f93641716eada684a7e… ┆ WETH           ┆ PEPE            │\n",
      "│ 78.531009    ┆ 79.624838   ┆ 2.2785e26 ┆ 4.0000e16 ┆ … ┆ 1681918703 ┆ 0x268d7e4fca2033c00c19e88b0fa825… ┆ WETH           ┆ PEPE            │\n",
      "└──────────────┴─────────────┴───────────┴───────────┴───┴────────────┴───────────────────────────────────┴────────────────┴─────────────────┘\n",
      "Function 'query_swaps' executed in 52.9372s\n"
     ]
    }
   ],
   "source": [
    "swap_filter = {\n",
    "    'timestamp_gte': int((datetime(2023, 4, 19) - timedelta(days=7)).timestamp()),\n",
    "    'timestamp_lte': int(datetime(2023, 4, 19).timestamp()),\n",
    "    'pool_id': '0xf239009a101b6b930a527deaab6961b6e7dec8a6'\n",
    "}\n",
    "\n",
    "swap_cols = [\n",
    "    'account_id',\n",
    "    'tokenIn_symbol', \n",
    "    'tokenOut_symbol', \n",
    "    'amountOutUSD', \n",
    "    'amountInUSD',\n",
    "    'amountOut',\n",
    "    'amountIn'\n",
    "    ]\n",
    "\n",
    "swap_df = my_dex.query_swaps(query_paths=swap_cols, filter_dict=swap_filter, query_size=100000, saved_file_name='pepe_swaps_4.12.23_to_4.19.23', add_endpoint_col=False)\n"
   ]
  },
  {
   "cell_type": "code",
   "execution_count": null,
   "metadata": {},
   "outputs": [],
   "source": []
  }
 ],
 "metadata": {
  "kernelspec": {
   "display_name": ".venv",
   "language": "python",
   "name": "python3"
  },
  "language_info": {
   "codemirror_mode": {
    "name": "ipython",
    "version": 3
   },
   "file_extension": ".py",
   "mimetype": "text/x-python",
   "name": "python",
   "nbconvert_exporter": "python",
   "pygments_lexer": "ipython3",
   "version": "3.10.6"
  },
  "orig_nbformat": 4
 },
 "nbformat": 4,
 "nbformat_minor": 2
}
