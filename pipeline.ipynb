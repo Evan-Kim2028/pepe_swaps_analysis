{
 "cells": [
  {
   "cell_type": "code",
   "execution_count": 1,
   "metadata": {},
   "outputs": [
    {
     "name": "stdout",
     "output_type": "stream",
     "text": [
      "Collecting git+https://github.com/Evan-Kim2028/subgraph-query-portal.git\n",
      "  Cloning https://github.com/Evan-Kim2028/subgraph-query-portal.git to /tmp/pip-req-build-uy08odtt\n",
      "  Running command git clone --filter=blob:none --quiet https://github.com/Evan-Kim2028/subgraph-query-portal.git /tmp/pip-req-build-uy08odtt\n",
      "  Resolved https://github.com/Evan-Kim2028/subgraph-query-portal.git to commit 7993c20c8a18d0a29a86ac23c7d0f6ff13fcec3f\n",
      "  Installing build dependencies ... \u001b[?25ldone\n",
      "\u001b[?25h  Getting requirements to build wheel ... \u001b[?25ldone\n",
      "\u001b[?25h  Installing backend dependencies ... \u001b[?25ldone\n",
      "\u001b[?25h  Preparing metadata (pyproject.toml) ... \u001b[?25ldone\n",
      "\u001b[?25hRequirement already satisfied: subgrounds==1.4.0 in ./.venv/lib/python3.10/site-packages (from queryportal==0.0.post1.dev185+g7993c20) (1.4.0)\n",
      "Requirement already satisfied: polars in ./.venv/lib/python3.10/site-packages (from queryportal==0.0.post1.dev185+g7993c20) (0.17.5)\n",
      "Requirement already satisfied: pyarrow in ./.venv/lib/python3.10/site-packages (from queryportal==0.0.post1.dev185+g7993c20) (11.0.0)\n",
      "Requirement already satisfied: python-dotenv in ./.venv/lib/python3.10/site-packages (from queryportal==0.0.post1.dev185+g7993c20) (1.0.0)\n",
      "Requirement already satisfied: pandas<2.0.0,>=1.4.2 in ./.venv/lib/python3.10/site-packages (from subgrounds==1.4.0->queryportal==0.0.post1.dev185+g7993c20) (1.5.3)\n",
      "Requirement already satisfied: pathlib<2.0.0,>=1.0.1 in ./.venv/lib/python3.10/site-packages (from subgrounds==1.4.0->queryportal==0.0.post1.dev185+g7993c20) (1.0.1)\n",
      "Requirement already satisfied: pipe<3.0,>=2.0 in ./.venv/lib/python3.10/site-packages (from subgrounds==1.4.0->queryportal==0.0.post1.dev185+g7993c20) (2.0)\n",
      "Requirement already satisfied: pydantic<2.0.0,>=1.10.2 in ./.venv/lib/python3.10/site-packages (from subgrounds==1.4.0->queryportal==0.0.post1.dev185+g7993c20) (1.10.7)\n",
      "Requirement already satisfied: requests<3.0.0,>=2.27.1 in ./.venv/lib/python3.10/site-packages (from subgrounds==1.4.0->queryportal==0.0.post1.dev185+g7993c20) (2.28.2)\n",
      "Requirement already satisfied: typing_extensions>=4.0.1 in ./.venv/lib/python3.10/site-packages (from polars->queryportal==0.0.post1.dev185+g7993c20) (4.5.0)\n",
      "Requirement already satisfied: numpy>=1.16.6 in ./.venv/lib/python3.10/site-packages (from pyarrow->queryportal==0.0.post1.dev185+g7993c20) (1.24.2)\n",
      "Requirement already satisfied: python-dateutil>=2.8.1 in ./.venv/lib/python3.10/site-packages (from pandas<2.0.0,>=1.4.2->subgrounds==1.4.0->queryportal==0.0.post1.dev185+g7993c20) (2.8.2)\n",
      "Requirement already satisfied: pytz>=2020.1 in ./.venv/lib/python3.10/site-packages (from pandas<2.0.0,>=1.4.2->subgrounds==1.4.0->queryportal==0.0.post1.dev185+g7993c20) (2023.3)\n",
      "Requirement already satisfied: charset-normalizer<4,>=2 in ./.venv/lib/python3.10/site-packages (from requests<3.0.0,>=2.27.1->subgrounds==1.4.0->queryportal==0.0.post1.dev185+g7993c20) (3.1.0)\n",
      "Requirement already satisfied: idna<4,>=2.5 in ./.venv/lib/python3.10/site-packages (from requests<3.0.0,>=2.27.1->subgrounds==1.4.0->queryportal==0.0.post1.dev185+g7993c20) (3.4)\n",
      "Requirement already satisfied: urllib3<1.27,>=1.21.1 in ./.venv/lib/python3.10/site-packages (from requests<3.0.0,>=2.27.1->subgrounds==1.4.0->queryportal==0.0.post1.dev185+g7993c20) (1.26.15)\n",
      "Requirement already satisfied: certifi>=2017.4.17 in ./.venv/lib/python3.10/site-packages (from requests<3.0.0,>=2.27.1->subgrounds==1.4.0->queryportal==0.0.post1.dev185+g7993c20) (2022.12.7)\n",
      "Requirement already satisfied: six>=1.5 in ./.venv/lib/python3.10/site-packages (from python-dateutil>=2.8.1->pandas<2.0.0,>=1.4.2->subgrounds==1.4.0->queryportal==0.0.post1.dev185+g7993c20) (1.16.0)\n",
      "\n",
      "\u001b[1m[\u001b[0m\u001b[34;49mnotice\u001b[0m\u001b[1;39;49m]\u001b[0m\u001b[39;49m A new release of pip is available: \u001b[0m\u001b[31;49m23.1\u001b[0m\u001b[39;49m -> \u001b[0m\u001b[32;49m23.1.2\u001b[0m\n",
      "\u001b[1m[\u001b[0m\u001b[34;49mnotice\u001b[0m\u001b[1;39;49m]\u001b[0m\u001b[39;49m To update, run: \u001b[0m\u001b[32;49mpip install --upgrade pip\u001b[0m\n"
     ]
    }
   ],
   "source": [
    "!pip install git+https://github.com/Evan-Kim2028/subgraph-query-portal.git"
   ]
  },
  {
   "cell_type": "code",
   "execution_count": 12,
   "metadata": {},
   "outputs": [
    {
     "data": {
      "text/plain": [
       "polars.config.Config"
      ]
     },
     "execution_count": 12,
     "metadata": {},
     "output_type": "execute_result"
    }
   ],
   "source": [
    "from queryportal.subgraphinterface import SubgraphInterface\n",
    "\n",
    "from datetime import datetime, timedelta\n",
    "\n",
    "\n",
    "import polars as pl\n",
    "pl.Config.set_fmt_str_lengths(200)"
   ]
  },
  {
   "cell_type": "code",
   "execution_count": 13,
   "metadata": {},
   "outputs": [],
   "source": [
    "# define subgraph endpoint. This one is the Univ3 Ethereum endpoint maintained by Messari\n",
    "endpoint = 'https://api.thegraph.com/subgraphs/name/messari/uniswap-v3-ethereum'\n",
    "\n",
    "# instantiate dex class. Dex stores dex-related query functions\n",
    "my_dex = SubgraphInterface(endpoint)"
   ]
  },
  {
   "attachments": {},
   "cell_type": "markdown",
   "metadata": {},
   "source": [
    "First query is to get PEPE pools on Univ3\n",
    "\n",
    "Tips:\n",
    "- Find valid query entities and columns by inspecting the endpoint url...."
   ]
  },
  {
   "cell_type": "code",
   "execution_count": 26,
   "metadata": {},
   "outputs": [],
   "source": [
    "pool_filter = {\n",
    "    'pool_name_contains': 'Pepe',\n",
    "    'timestamp_gte': int((datetime(2023, 4, 12).timestamp())),\n",
    "    'timestamp_lte': int(datetime(2023, 4, 19).timestamp())\n",
    "}\n",
    "\n",
    "pool_cols = [\n",
    "    'timestamp',\n",
    "    'hash',\n",
    "    # comes from Pool! entity\n",
    "    'pool_name', \n",
    "    'pool_id',\n",
    "    'pool_totalValueLockedUSD',\n",
    "    # comes from Token entity\n",
    "    'tokenIn_symbol', \n",
    "    'tokenOut_symbol', \n",
    "    'tokenIn_id',\n",
    "    'tokenOut_id',\n",
    "    ]"
   ]
  },
  {
   "cell_type": "code",
   "execution_count": 27,
   "metadata": {},
   "outputs": [
    {
     "name": "stdout",
     "output_type": "stream",
     "text": [
      "Querying subgraph endpoint: uniswap-v3-ethereum\n",
      "Shape: (1000, 9)\n",
      "Schema: {'timestamp': Int64, 'hash': Utf8, 'pool_name': Utf8, 'pool_id': Utf8, 'pool_totalValueLockedUSD': Float64, 'tokenIn_symbol': Utf8, 'tokenIn_id': Utf8, 'tokenOut_symbol': Utf8, 'tokenOut_id': Utf8}\n",
      "Function 'query_entity' executed in 3.4338s\n"
     ]
    }
   ],
   "source": [
    "df = my_dex.query_entity(\n",
    "    entity='swaps',\n",
    "    name='uniswap-v3-ethereum',\n",
    "    query_paths=pool_cols,\n",
    "    query_size=1000,\n",
    "    filter_dict=pool_filter\n",
    "    )"
   ]
  },
  {
   "cell_type": "code",
   "execution_count": 28,
   "metadata": {},
   "outputs": [],
   "source": [
    "unique_pool_df = df[['pool_name', 'pool_id', 'pool_totalValueLockedUSD']].unique().sort(by='pool_totalValueLockedUSD', descending=True)"
   ]
  },
  {
   "cell_type": "code",
   "execution_count": 29,
   "metadata": {},
   "outputs": [],
   "source": [
    "unique_pool_df = unique_pool_df.to_pandas()"
   ]
  },
  {
   "cell_type": "code",
   "execution_count": 30,
   "metadata": {},
   "outputs": [
    {
     "data": {
      "text/html": [
       "<div>\n",
       "<style scoped>\n",
       "    .dataframe tbody tr th:only-of-type {\n",
       "        vertical-align: middle;\n",
       "    }\n",
       "\n",
       "    .dataframe tbody tr th {\n",
       "        vertical-align: top;\n",
       "    }\n",
       "\n",
       "    .dataframe thead th {\n",
       "        text-align: right;\n",
       "    }\n",
       "</style>\n",
       "<table border=\"1\" class=\"dataframe\">\n",
       "  <thead>\n",
       "    <tr style=\"text-align: right;\">\n",
       "      <th></th>\n",
       "      <th>pool_name</th>\n",
       "      <th>pool_id</th>\n",
       "      <th>pool_totalValueLockedUSD</th>\n",
       "    </tr>\n",
       "  </thead>\n",
       "  <tbody>\n",
       "    <tr>\n",
       "      <th>0</th>\n",
       "      <td>Uniswap V3 McPepes/Wrapped Ether 1%</td>\n",
       "      <td>0xdf19389d0b2bee33230d73f07c8e0e2c4e78fb59</td>\n",
       "      <td>4.286022e+06</td>\n",
       "    </tr>\n",
       "    <tr>\n",
       "      <th>1</th>\n",
       "      <td>Uniswap V3 Pepe/Wrapped Ether 1%</td>\n",
       "      <td>0xf239009a101b6b930a527deaab6961b6e7dec8a6</td>\n",
       "      <td>2.639507e+06</td>\n",
       "    </tr>\n",
       "    <tr>\n",
       "      <th>2</th>\n",
       "      <td>Uniswap V3 Pepe/McPepes 1%</td>\n",
       "      <td>0x5e63add89fad07394c866b5ec650d062be15ef73</td>\n",
       "      <td>5.250808e+04</td>\n",
       "    </tr>\n",
       "    <tr>\n",
       "      <th>3</th>\n",
       "      <td>Uniswap V3 Pepe/USD Coin 1%</td>\n",
       "      <td>0xcee31c846cbf003f4ceb5bbd234cba03c6e940c7</td>\n",
       "      <td>4.889254e+04</td>\n",
       "    </tr>\n",
       "    <tr>\n",
       "      <th>4</th>\n",
       "      <td>Uniswap V3 Wojak Coin/Pepe 1%</td>\n",
       "      <td>0x0b4cb9d4fb1cee079392bc7cf6417a669f4c2dbd</td>\n",
       "      <td>3.448001e+02</td>\n",
       "    </tr>\n",
       "  </tbody>\n",
       "</table>\n",
       "</div>"
      ],
      "text/plain": [
       "                             pool_name  \\\n",
       "0  Uniswap V3 McPepes/Wrapped Ether 1%   \n",
       "1     Uniswap V3 Pepe/Wrapped Ether 1%   \n",
       "2           Uniswap V3 Pepe/McPepes 1%   \n",
       "3          Uniswap V3 Pepe/USD Coin 1%   \n",
       "4        Uniswap V3 Wojak Coin/Pepe 1%   \n",
       "\n",
       "                                      pool_id  pool_totalValueLockedUSD  \n",
       "0  0xdf19389d0b2bee33230d73f07c8e0e2c4e78fb59              4.286022e+06  \n",
       "1  0xf239009a101b6b930a527deaab6961b6e7dec8a6              2.639507e+06  \n",
       "2  0x5e63add89fad07394c866b5ec650d062be15ef73              5.250808e+04  \n",
       "3  0xcee31c846cbf003f4ceb5bbd234cba03c6e940c7              4.889254e+04  \n",
       "4  0x0b4cb9d4fb1cee079392bc7cf6417a669f4c2dbd              3.448001e+02  "
      ]
     },
     "execution_count": 30,
     "metadata": {},
     "output_type": "execute_result"
    }
   ],
   "source": [
    "unique_pool_df"
   ]
  },
  {
   "cell_type": "code",
   "execution_count": 9,
   "metadata": {},
   "outputs": [],
   "source": [
    "# it appears that the main pool liquidity for PEPE is this pool_id 0xf239009a101b6b930a527deaab6961b6e7dec8a6"
   ]
  },
  {
   "cell_type": "code",
   "execution_count": 31,
   "metadata": {},
   "outputs": [
    {
     "name": "stdout",
     "output_type": "stream",
     "text": [
      "Querying subgraph endpoint: uniswap-v3-ethereum\n",
      "Shape: (100, 7)\n",
      "Schema: {'amountOutUSD': Float64, 'amountInUSD': Float64, 'amountOut': Float64, 'amountIn': Float64, 'account_id': Utf8, 'tokenIn_symbol': Utf8, 'tokenOut_symbol': Utf8}\n",
      "Function 'query_entity' executed in 1.0917s\n"
     ]
    }
   ],
   "source": [
    "swap_filter = {\n",
    "    'timestamp_gte': int((datetime(2023, 4, 19) - timedelta(days=7)).timestamp()),\n",
    "    'timestamp_lte': int(datetime(2023, 4, 19).timestamp()),\n",
    "    'pool_id': '0xf239009a101b6b930a527deaab6961b6e7dec8a6'\n",
    "}\n",
    "\n",
    "swap_cols = [\n",
    "    'account_id',\n",
    "    'tokenIn_symbol', \n",
    "    'tokenOut_symbol', \n",
    "    'amountOutUSD', \n",
    "    'amountInUSD',\n",
    "    'amountOut',\n",
    "    'amountIn'\n",
    "    ]\n",
    "\n",
    "swap_df = my_dex.query_entity(\n",
    "    entity='swaps',\n",
    "    name='uniswap-v3-ethereum',\n",
    "    query_paths=swap_cols, \n",
    "    filter_dict=swap_filter, \n",
    "    query_size=100, \n",
    "    saved_file_name='pepe_swaps_4.12.23_to_4.19.23')\n"
   ]
  },
  {
   "cell_type": "code",
   "execution_count": 32,
   "metadata": {},
   "outputs": [
    {
     "data": {
      "text/html": [
       "<div><style>\n",
       ".dataframe > thead > tr > th,\n",
       ".dataframe > tbody > tr > td {\n",
       "  text-align: right;\n",
       "}\n",
       "</style>\n",
       "<small>shape: (100, 7)</small><table border=\"1\" class=\"dataframe\"><thead><tr><th>amountOutUSD</th><th>amountInUSD</th><th>amountOut</th><th>amountIn</th><th>account_id</th><th>tokenIn_symbol</th><th>tokenOut_symbol</th></tr><tr><td>f64</td><td>f64</td><td>f64</td><td>f64</td><td>str</td><td>str</td><td>str</td></tr></thead><tbody><tr><td>1813.988391</td><td>1882.034695</td><td>8.5473e27</td><td>9.0000e17</td><td>&quot;0x48cbfe2b07c4aa6ac75b13d5465b9b2f2e43dd0f&quot;</td><td>&quot;WETH&quot;</td><td>&quot;PEPE&quot;</td></tr><tr><td>0.0</td><td>154.197149</td><td>4.2686e27</td><td>7.4300e16</td><td>&quot;0xb12ea163a895829112798b1713c8f1d2a4821025&quot;</td><td>&quot;WETH&quot;</td><td>&quot;PEPE&quot;</td></tr><tr><td>0.0</td><td>83.666231</td><td>1.3472e27</td><td>4.0000e16</td><td>&quot;0x477d7c3218bed2b72a451178689785674410aeb5&quot;</td><td>&quot;WETH&quot;</td><td>&quot;PEPE&quot;</td></tr><tr><td>147.381486</td><td>147.082163</td><td>8.9104e26</td><td>7.0000e16</td><td>&quot;0xd0885451654c9d6c5017582d544e9916f86a245d&quot;</td><td>&quot;WETH&quot;</td><td>&quot;PEPE&quot;</td></tr><tr><td>0.0</td><td>60.76173</td><td>1.0564e27</td><td>2.9000e16</td><td>&quot;0xaa525d002e0240a9c6461e3400e37962e4f0c5bc&quot;</td><td>&quot;WETH&quot;</td><td>&quot;PEPE&quot;</td></tr><tr><td>276.008582</td><td>278.993839</td><td>1.5230e27</td><td>1.3400e17</td><td>&quot;0x86b1810e93e9f76b8157934eeb18db163ef40bfc&quot;</td><td>&quot;WETH&quot;</td><td>&quot;PEPE&quot;</td></tr><tr><td>0.0</td><td>114.123993</td><td>1.7806e27</td><td>5.5000e16</td><td>&quot;0xf8ed350ce552f7d54652eed4b47daed93146d13d&quot;</td><td>&quot;WETH&quot;</td><td>&quot;PEPE&quot;</td></tr><tr><td>4782.695608</td><td>4767.987232</td><td>2.2814e18</td><td>2.7500e28</td><td>&quot;0x468d1ef7a1204d592537dab35794aac640c97505&quot;</td><td>&quot;PEPE&quot;</td><td>&quot;WETH&quot;</td></tr><tr><td>0.0</td><td>166.554623</td><td>2.8962e27</td><td>8.0000e16</td><td>&quot;0x13dc7217d233e51d8c724052139b7afd29bb57e5&quot;</td><td>&quot;WETH&quot;</td><td>&quot;PEPE&quot;</td></tr><tr><td>105.468838</td><td>105.689937</td><td>1.0296e27</td><td>5.0000e16</td><td>&quot;0x8210e476d9af3c31bc453a3c09a90c04d8e5d3a1&quot;</td><td>&quot;WETH&quot;</td><td>&quot;PEPE&quot;</td></tr><tr><td>0.0</td><td>104.970648</td><td>1.8633e27</td><td>5.0000e16</td><td>&quot;0x4916b84c2537766c1e60d554f694b8990724c5de&quot;</td><td>&quot;WETH&quot;</td><td>&quot;PEPE&quot;</td></tr><tr><td>301.304599</td><td>309.239709</td><td>1.4471e17</td><td>1.7924e27</td><td>&quot;0x6f012a1daead939d027cffeaf843f251603ee208&quot;</td><td>&quot;PEPE&quot;</td><td>&quot;WETH&quot;</td></tr><tr><td>&hellip;</td><td>&hellip;</td><td>&hellip;</td><td>&hellip;</td><td>&hellip;</td><td>&hellip;</td><td>&hellip;</td></tr><tr><td>1269.241514</td><td>1260.563713</td><td>6.0000e17</td><td>1.2621e28</td><td>&quot;0x6c33d7e838b83d99d3364694b0e66eb32c3bfcd0&quot;</td><td>&quot;PEPE&quot;</td><td>&quot;WETH&quot;</td></tr><tr><td>62.797121</td><td>62.73449</td><td>2.8005e26</td><td>3.0000e16</td><td>&quot;0xc8b8921755844030bf14bcac61896e50c32d803e&quot;</td><td>&quot;WETH&quot;</td><td>&quot;PEPE&quot;</td></tr><tr><td>2082.345233</td><td>2211.739282</td><td>9.9104e17</td><td>1.4971e28</td><td>&quot;0x9eef436e3d8facf1b5ee3d213bafb426b4c085e0&quot;</td><td>&quot;PEPE&quot;</td><td>&quot;WETH&quot;</td></tr><tr><td>0.0</td><td>20.785507</td><td>3.9316e26</td><td>1.0000e16</td><td>&quot;0x34185547c64572a039d2d9fe1561ce85f800ac26&quot;</td><td>&quot;WETH&quot;</td><td>&quot;PEPE&quot;</td></tr><tr><td>0.0</td><td>193.367974</td><td>2.8542e27</td><td>9.2000e16</td><td>&quot;0xacb7265479186c148f0e67a4abbf2c29ba75921f&quot;</td><td>&quot;WETH&quot;</td><td>&quot;PEPE&quot;</td></tr><tr><td>169.850785</td><td>177.095786</td><td>2.2754e27</td><td>8.5000e16</td><td>&quot;0x77bb4ef7ba460c80a7d7bfd475dbb7c7fc82333b&quot;</td><td>&quot;WETH&quot;</td><td>&quot;PEPE&quot;</td></tr><tr><td>0.0</td><td>102.254668</td><td>1.6357e27</td><td>4.8800e16</td><td>&quot;0x23f0fdcf528d715a155a00c07c6b592069be906f&quot;</td><td>&quot;WETH&quot;</td><td>&quot;PEPE&quot;</td></tr><tr><td>523.615999</td><td>0.0</td><td>2.5311e17</td><td>1.2970e28</td><td>&quot;0xe3672ddd7cf52ba8d5f4413e7bb5bbb5e7dc0efd&quot;</td><td>&quot;PEPE&quot;</td><td>&quot;WETH&quot;</td></tr><tr><td>164.204967</td><td>166.815864</td><td>7.8979e16</td><td>2.1287e27</td><td>&quot;0xf0229dc67ede292123fc54fb66d8f3192d76d9c8&quot;</td><td>&quot;PEPE&quot;</td><td>&quot;WETH&quot;</td></tr><tr><td>89.314192</td><td>92.07841</td><td>1.0500e27</td><td>4.4280e16</td><td>&quot;0x9f0307d6eea36250f37b2a82fdeb6e517b873eb5&quot;</td><td>&quot;WETH&quot;</td><td>&quot;PEPE&quot;</td></tr><tr><td>1335.561375</td><td>0.0</td><td>6.4151e17</td><td>3.4969e28</td><td>&quot;0x436831ebdf1d010ecfb2463e84c151f74489cff8&quot;</td><td>&quot;PEPE&quot;</td><td>&quot;WETH&quot;</td></tr><tr><td>31.345548</td><td>31.489534</td><td>3.1392e26</td><td>1.5000e16</td><td>&quot;0xe4f7b6d11c8a25c778e70bfc8ccaff690e017bcb&quot;</td><td>&quot;WETH&quot;</td><td>&quot;PEPE&quot;</td></tr></tbody></table></div>"
      ],
      "text/plain": [
       "shape: (100, 7)\n",
       "┌──────────────┬─────────────┬───────────┬───────────┬───────────────┬──────────────┬──────────────┐\n",
       "│ amountOutUSD ┆ amountInUSD ┆ amountOut ┆ amountIn  ┆ account_id    ┆ tokenIn_symb ┆ tokenOut_sym │\n",
       "│ ---          ┆ ---         ┆ ---       ┆ ---       ┆ ---           ┆ ol           ┆ bol          │\n",
       "│ f64          ┆ f64         ┆ f64       ┆ f64       ┆ str           ┆ ---          ┆ ---          │\n",
       "│              ┆             ┆           ┆           ┆               ┆ str          ┆ str          │\n",
       "╞══════════════╪═════════════╪═══════════╪═══════════╪═══════════════╪══════════════╪══════════════╡\n",
       "│ 1813.988391  ┆ 1882.034695 ┆ 8.5473e27 ┆ 9.0000e17 ┆ 0x48cbfe2b07c ┆ WETH         ┆ PEPE         │\n",
       "│              ┆             ┆           ┆           ┆ 4aa6ac75b13d5 ┆              ┆              │\n",
       "│              ┆             ┆           ┆           ┆ 465b9b2f2e43d ┆              ┆              │\n",
       "│              ┆             ┆           ┆           ┆ d0f           ┆              ┆              │\n",
       "│ 0.0          ┆ 154.197149  ┆ 4.2686e27 ┆ 7.4300e16 ┆ 0xb12ea163a89 ┆ WETH         ┆ PEPE         │\n",
       "│              ┆             ┆           ┆           ┆ 5829112798b17 ┆              ┆              │\n",
       "│              ┆             ┆           ┆           ┆ 13c8f1d2a4821 ┆              ┆              │\n",
       "│              ┆             ┆           ┆           ┆ 025           ┆              ┆              │\n",
       "│ 0.0          ┆ 83.666231   ┆ 1.3472e27 ┆ 4.0000e16 ┆ 0x477d7c3218b ┆ WETH         ┆ PEPE         │\n",
       "│              ┆             ┆           ┆           ┆ ed2b72a451178 ┆              ┆              │\n",
       "│              ┆             ┆           ┆           ┆ 689785674410a ┆              ┆              │\n",
       "│              ┆             ┆           ┆           ┆ eb5           ┆              ┆              │\n",
       "│ 147.381486   ┆ 147.082163  ┆ 8.9104e26 ┆ 7.0000e16 ┆ 0xd0885451654 ┆ WETH         ┆ PEPE         │\n",
       "│              ┆             ┆           ┆           ┆ c9d6c5017582d ┆              ┆              │\n",
       "│              ┆             ┆           ┆           ┆ 544e9916f86a2 ┆              ┆              │\n",
       "│              ┆             ┆           ┆           ┆ 45d           ┆              ┆              │\n",
       "│ …            ┆ …           ┆ …         ┆ …         ┆ …             ┆ …            ┆ …            │\n",
       "│ 164.204967   ┆ 166.815864  ┆ 7.8979e16 ┆ 2.1287e27 ┆ 0xf0229dc67ed ┆ PEPE         ┆ WETH         │\n",
       "│              ┆             ┆           ┆           ┆ e292123fc54fb ┆              ┆              │\n",
       "│              ┆             ┆           ┆           ┆ 66d8f3192d76d ┆              ┆              │\n",
       "│              ┆             ┆           ┆           ┆ 9c8           ┆              ┆              │\n",
       "│ 89.314192    ┆ 92.07841    ┆ 1.0500e27 ┆ 4.4280e16 ┆ 0x9f0307d6eea ┆ WETH         ┆ PEPE         │\n",
       "│              ┆             ┆           ┆           ┆ 36250f37b2a82 ┆              ┆              │\n",
       "│              ┆             ┆           ┆           ┆ fdeb6e517b873 ┆              ┆              │\n",
       "│              ┆             ┆           ┆           ┆ eb5           ┆              ┆              │\n",
       "│ 1335.561375  ┆ 0.0         ┆ 6.4151e17 ┆ 3.4969e28 ┆ 0x436831ebdf1 ┆ PEPE         ┆ WETH         │\n",
       "│              ┆             ┆           ┆           ┆ d010ecfb2463e ┆              ┆              │\n",
       "│              ┆             ┆           ┆           ┆ 84c151f74489c ┆              ┆              │\n",
       "│              ┆             ┆           ┆           ┆ ff8           ┆              ┆              │\n",
       "│ 31.345548    ┆ 31.489534   ┆ 3.1392e26 ┆ 1.5000e16 ┆ 0xe4f7b6d11c8 ┆ WETH         ┆ PEPE         │\n",
       "│              ┆             ┆           ┆           ┆ a25c778e70bfc ┆              ┆              │\n",
       "│              ┆             ┆           ┆           ┆ 8ccaff690e017 ┆              ┆              │\n",
       "│              ┆             ┆           ┆           ┆ bcb           ┆              ┆              │\n",
       "└──────────────┴─────────────┴───────────┴───────────┴───────────────┴──────────────┴──────────────┘"
      ]
     },
     "execution_count": 32,
     "metadata": {},
     "output_type": "execute_result"
    }
   ],
   "source": [
    "swap_df"
   ]
  },
  {
   "cell_type": "code",
   "execution_count": null,
   "metadata": {},
   "outputs": [],
   "source": []
  }
 ],
 "metadata": {
  "kernelspec": {
   "display_name": ".venv",
   "language": "python",
   "name": "python3"
  },
  "language_info": {
   "codemirror_mode": {
    "name": "ipython",
    "version": 3
   },
   "file_extension": ".py",
   "mimetype": "text/x-python",
   "name": "python",
   "nbconvert_exporter": "python",
   "pygments_lexer": "ipython3",
   "version": "3.10.6"
  },
  "orig_nbformat": 4
 },
 "nbformat": 4,
 "nbformat_minor": 2
}
